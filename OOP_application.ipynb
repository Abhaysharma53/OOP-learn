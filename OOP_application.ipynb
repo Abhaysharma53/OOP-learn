{
 "cells": [
  {
   "cell_type": "code",
   "execution_count": 7,
   "id": "5f237381-0841-46b5-829d-7ee6c086c8d9",
   "metadata": {},
   "outputs": [
    {
     "name": "stdout",
     "output_type": "stream",
     "text": [
      "Collecting nlpcloud\n",
      "  Obtaining dependency information for nlpcloud from https://files.pythonhosted.org/packages/c6/81/9893787784dfb0d9f1a66eee7542b33041c9bf28efb5e1631642415d536a/nlpcloud-1.1.47-py3-none-any.whl.metadata\n",
      "  Downloading nlpcloud-1.1.47-py3-none-any.whl.metadata (1.1 kB)\n",
      "Requirement already satisfied: requests in c:\\users\\admin\\anaconda3\\lib\\site-packages (from nlpcloud) (2.31.0)\n",
      "Requirement already satisfied: charset-normalizer<4,>=2 in c:\\users\\admin\\anaconda3\\lib\\site-packages (from requests->nlpcloud) (2.0.4)\n",
      "Requirement already satisfied: idna<4,>=2.5 in c:\\users\\admin\\anaconda3\\lib\\site-packages (from requests->nlpcloud) (3.4)\n",
      "Requirement already satisfied: urllib3<3,>=1.21.1 in c:\\users\\admin\\anaconda3\\lib\\site-packages (from requests->nlpcloud) (1.26.18)\n",
      "Requirement already satisfied: certifi>=2017.4.17 in c:\\users\\admin\\anaconda3\\lib\\site-packages (from requests->nlpcloud) (2023.11.17)\n",
      "Downloading nlpcloud-1.1.47-py3-none-any.whl (3.9 kB)\n",
      "Installing collected packages: nlpcloud\n",
      "Successfully installed nlpcloud-1.1.47\n"
     ]
    }
   ],
   "source": [
    "!pip install nlpcloud"
   ]
  },
  {
   "cell_type": "code",
   "execution_count": 44,
   "id": "c6b0c88c-5f00-4b71-aa87-bbe3c7297014",
   "metadata": {},
   "outputs": [],
   "source": [
    "class NLPApp:\n",
    "    def __init__(self):\n",
    "        self.__database = dict()\n",
    "        self.__first_menu()\n",
    "\n",
    "    def __first_menu(self):\n",
    "        first_menu = input(\"\"\"Welcome! Please choose your option to proceed.\n",
    "        1. Not a Member Yet? Register\n",
    "        2. Already a Member? Login\n",
    "        3. Quit\"\"\")\n",
    "\n",
    "        if first_menu == '1':\n",
    "            self.__register()\n",
    "        elif first_menu == '2':\n",
    "            self.__login()\n",
    "        else:\n",
    "            exit()\n",
    "\n",
    "    def __second_menu(self):\n",
    "        second_menu = input(\"\"\"Please select the action you want to do\n",
    "        1. Named Entity Recognition(NER)\n",
    "        2. Language Detection\n",
    "        3. Sentiment Analysis\n",
    "        4. Exit\"\"\")\n",
    "\n",
    "        if second_menu == '1':\n",
    "            self.__ner()\n",
    "        elif second_menu == '2':\n",
    "            self.__language_detection()\n",
    "        elif second_menu == '3':\n",
    "            self.__sentiment_analysis()\n",
    "        else:\n",
    "            exit()\n",
    "        \n",
    "    def __register(self):\n",
    "        name = input(\"enter your name \")\n",
    "        email = input(\"enter your email id \")\n",
    "        password = input(\"enter your password to proceed\")\n",
    "\n",
    "        if email in self.__database:\n",
    "            print(\"Entered email already exist\")\n",
    "        else:\n",
    "            self.__database[email] = [name, password]\n",
    "            print(self.__database)\n",
    "            print(\"Registration Successful. Please login\")\n",
    "        self.__first_menu()\n",
    "\n",
    "    def __login(self):\n",
    "        email = input(\"Enter your email\")\n",
    "        password = input(\"Enter your password\")\n",
    "\n",
    "        if email in self.__database:\n",
    "            if password == self.__database[email][1]:\n",
    "                print(\"login Successful\")\n",
    "                self.__second_menu()\n",
    "            else:\n",
    "                print(\"Entered Password does not match.please try again\")\n",
    "                self.__login()\n",
    "        else:\n",
    "            print(\"Entered email does not exist\")\n",
    "            self.__first_menu()\n",
    "\n",
    "    def __ner(self):\n",
    "        para = input(\"Enter your paragraph to start searching\")\n",
    "        search_string = input(\"What exactly you are looking for\")\n",
    "        client = nlpcloud.Client(\"finetuned-llama-3-70b\", \"26e6f488168c653ed405708a1b934dda96fd2b33\", gpu=True)\n",
    "        response = client.entities(\n",
    "            para, searched_entity=search_string  \n",
    "            )\n",
    "        for i in response['entities']:\n",
    "            print(i['text'], end = \" ,\")\n",
    "        self.__second_menu()\n",
    "\n",
    "    def __language_detection(self):\n",
    "        para = input(\"Enter your paragraph to start searching\")\n",
    "        client = nlpcloud.Client(\"python-langdetect\", \"26e6f488168c653ed405708a1b934dda96fd2b33\", gpu=False)\n",
    "        response = client.lang_detection(\n",
    "            para\n",
    "        )\n",
    "        print(response)\n",
    "\n",
    "        \n",
    "\n",
    "    def __sentiment_analysis(self):\n",
    "        para = input(\"Enter your paragraph to start searching\")\n",
    "        client = nlpcloud.Client(\"finetuned-llama-3-70b\", \"26e6f488168c653ed405708a1b934dda96fd2b33\", gpu=True)\n",
    "        response = client.sentiment(\n",
    "        para,\n",
    "        target=\"NLP Cloud\"\n",
    "        )\n",
    "        L = list()\n",
    "        for i in response['scored_labels']:\n",
    "            L.append(i['score'])\n",
    "        \n",
    "        index = sorted(list(enumerate(L)), key = lambda x: x[1], reverse = True)[0][0]\n",
    "        emotion = response['scored_labels'][index]['label']\n",
    "        print(emotion)\n",
    "        self.__second_menu()\n",
    "        \n",
    "            \n",
    "        \n",
    "        \n",
    "            \n",
    "        \n",
    "        \n",
    "        "
   ]
  },
  {
   "cell_type": "code",
   "execution_count": 45,
   "id": "74ffb97f-a66b-40d6-b20a-cfb4979952d4",
   "metadata": {
    "scrolled": true
   },
   "outputs": [
    {
     "name": "stdin",
     "output_type": "stream",
     "text": [
      "Welcome! Please choose your option to proceed.\n",
      "        1. Not a Member Yet? Register\n",
      "        2. Already a Member? Login\n",
      "        3. Quit 1\n",
      "enter your name  abhay\n",
      "enter your email id  abs@gmail.com\n",
      "enter your password to proceed 1234\n"
     ]
    },
    {
     "name": "stdout",
     "output_type": "stream",
     "text": [
      "{'abs@gmail.com': ['abhay', '1234']}\n",
      "Registration Successful. Please login\n"
     ]
    },
    {
     "name": "stdin",
     "output_type": "stream",
     "text": [
      "Welcome! Please choose your option to proceed.\n",
      "        1. Not a Member Yet? Register\n",
      "        2. Already a Member? Login\n",
      "        3. Quit 2\n",
      "Enter your email abs@gmail.com\n",
      "Enter your password 1234\n"
     ]
    },
    {
     "name": "stdout",
     "output_type": "stream",
     "text": [
      "login Successful\n"
     ]
    },
    {
     "name": "stdin",
     "output_type": "stream",
     "text": [
      "Please select the action you want to do\n",
      "        1. Named Entity Recognition(NER)\n",
      "        2. Language Detection\n",
      "        3. Sentiment Analysis\n",
      "        4. Exit 2\n",
      "Enter your paragraph to start searching John Doe has been working for Microsoft in Seattle since 1999. Et il parle aussi un peu français.\n"
     ]
    },
    {
     "ename": "AttributeError",
     "evalue": "'Client' object has no attribute 'lang_detection'",
     "output_type": "error",
     "traceback": [
      "\u001b[1;31m---------------------------------------------------------------------------\u001b[0m",
      "\u001b[1;31mAttributeError\u001b[0m                            Traceback (most recent call last)",
      "Cell \u001b[1;32mIn[45], line 1\u001b[0m\n\u001b[1;32m----> 1\u001b[0m a \u001b[38;5;241m=\u001b[39m NLPApp()\n",
      "Cell \u001b[1;32mIn[44], line 4\u001b[0m, in \u001b[0;36mNLPApp.__init__\u001b[1;34m(self)\u001b[0m\n\u001b[0;32m      2\u001b[0m \u001b[38;5;28;01mdef\u001b[39;00m \u001b[38;5;21m__init__\u001b[39m(\u001b[38;5;28mself\u001b[39m):\n\u001b[0;32m      3\u001b[0m     \u001b[38;5;28mself\u001b[39m\u001b[38;5;241m.\u001b[39m__database \u001b[38;5;241m=\u001b[39m \u001b[38;5;28mdict\u001b[39m()\n\u001b[1;32m----> 4\u001b[0m     \u001b[38;5;28mself\u001b[39m\u001b[38;5;241m.\u001b[39m__first_menu()\n",
      "Cell \u001b[1;32mIn[44], line 13\u001b[0m, in \u001b[0;36mNLPApp.__first_menu\u001b[1;34m(self)\u001b[0m\n\u001b[0;32m      7\u001b[0m first_menu \u001b[38;5;241m=\u001b[39m \u001b[38;5;28minput\u001b[39m(\u001b[38;5;124m\"\"\"\u001b[39m\u001b[38;5;124mWelcome! Please choose your option to proceed.\u001b[39m\n\u001b[0;32m      8\u001b[0m \u001b[38;5;124m1. Not a Member Yet? Register\u001b[39m\n\u001b[0;32m      9\u001b[0m \u001b[38;5;124m2. Already a Member? Login\u001b[39m\n\u001b[0;32m     10\u001b[0m \u001b[38;5;124m3. Quit\u001b[39m\u001b[38;5;124m\"\"\"\u001b[39m)\n\u001b[0;32m     12\u001b[0m \u001b[38;5;28;01mif\u001b[39;00m first_menu \u001b[38;5;241m==\u001b[39m \u001b[38;5;124m'\u001b[39m\u001b[38;5;124m1\u001b[39m\u001b[38;5;124m'\u001b[39m:\n\u001b[1;32m---> 13\u001b[0m     \u001b[38;5;28mself\u001b[39m\u001b[38;5;241m.\u001b[39m__register()\n\u001b[0;32m     14\u001b[0m \u001b[38;5;28;01melif\u001b[39;00m first_menu \u001b[38;5;241m==\u001b[39m \u001b[38;5;124m'\u001b[39m\u001b[38;5;124m2\u001b[39m\u001b[38;5;124m'\u001b[39m:\n\u001b[0;32m     15\u001b[0m     \u001b[38;5;28mself\u001b[39m\u001b[38;5;241m.\u001b[39m__login()\n",
      "Cell \u001b[1;32mIn[44], line 46\u001b[0m, in \u001b[0;36mNLPApp.__register\u001b[1;34m(self)\u001b[0m\n\u001b[0;32m     44\u001b[0m     \u001b[38;5;28mprint\u001b[39m(\u001b[38;5;28mself\u001b[39m\u001b[38;5;241m.\u001b[39m__database)\n\u001b[0;32m     45\u001b[0m     \u001b[38;5;28mprint\u001b[39m(\u001b[38;5;124m\"\u001b[39m\u001b[38;5;124mRegistration Successful. Please login\u001b[39m\u001b[38;5;124m\"\u001b[39m)\n\u001b[1;32m---> 46\u001b[0m \u001b[38;5;28mself\u001b[39m\u001b[38;5;241m.\u001b[39m__first_menu()\n",
      "Cell \u001b[1;32mIn[44], line 15\u001b[0m, in \u001b[0;36mNLPApp.__first_menu\u001b[1;34m(self)\u001b[0m\n\u001b[0;32m     13\u001b[0m     \u001b[38;5;28mself\u001b[39m\u001b[38;5;241m.\u001b[39m__register()\n\u001b[0;32m     14\u001b[0m \u001b[38;5;28;01melif\u001b[39;00m first_menu \u001b[38;5;241m==\u001b[39m \u001b[38;5;124m'\u001b[39m\u001b[38;5;124m2\u001b[39m\u001b[38;5;124m'\u001b[39m:\n\u001b[1;32m---> 15\u001b[0m     \u001b[38;5;28mself\u001b[39m\u001b[38;5;241m.\u001b[39m__login()\n\u001b[0;32m     16\u001b[0m \u001b[38;5;28;01melse\u001b[39;00m:\n\u001b[0;32m     17\u001b[0m     exit()\n",
      "Cell \u001b[1;32mIn[44], line 55\u001b[0m, in \u001b[0;36mNLPApp.__login\u001b[1;34m(self)\u001b[0m\n\u001b[0;32m     53\u001b[0m \u001b[38;5;28;01mif\u001b[39;00m password \u001b[38;5;241m==\u001b[39m \u001b[38;5;28mself\u001b[39m\u001b[38;5;241m.\u001b[39m__database[email][\u001b[38;5;241m1\u001b[39m]:\n\u001b[0;32m     54\u001b[0m     \u001b[38;5;28mprint\u001b[39m(\u001b[38;5;124m\"\u001b[39m\u001b[38;5;124mlogin Successful\u001b[39m\u001b[38;5;124m\"\u001b[39m)\n\u001b[1;32m---> 55\u001b[0m     \u001b[38;5;28mself\u001b[39m\u001b[38;5;241m.\u001b[39m__second_menu()\n\u001b[0;32m     56\u001b[0m \u001b[38;5;28;01melse\u001b[39;00m:\n\u001b[0;32m     57\u001b[0m     \u001b[38;5;28mprint\u001b[39m(\u001b[38;5;124m\"\u001b[39m\u001b[38;5;124mEntered Password does not match.please try again\u001b[39m\u001b[38;5;124m\"\u001b[39m)\n",
      "Cell \u001b[1;32mIn[44], line 29\u001b[0m, in \u001b[0;36mNLPApp.__second_menu\u001b[1;34m(self)\u001b[0m\n\u001b[0;32m     27\u001b[0m     \u001b[38;5;28mself\u001b[39m\u001b[38;5;241m.\u001b[39m__ner()\n\u001b[0;32m     28\u001b[0m \u001b[38;5;28;01melif\u001b[39;00m second_menu \u001b[38;5;241m==\u001b[39m \u001b[38;5;124m'\u001b[39m\u001b[38;5;124m2\u001b[39m\u001b[38;5;124m'\u001b[39m:\n\u001b[1;32m---> 29\u001b[0m     \u001b[38;5;28mself\u001b[39m\u001b[38;5;241m.\u001b[39m__language_detection()\n\u001b[0;32m     30\u001b[0m \u001b[38;5;28;01melif\u001b[39;00m second_menu \u001b[38;5;241m==\u001b[39m \u001b[38;5;124m'\u001b[39m\u001b[38;5;124m3\u001b[39m\u001b[38;5;124m'\u001b[39m:\n\u001b[0;32m     31\u001b[0m     \u001b[38;5;28mself\u001b[39m\u001b[38;5;241m.\u001b[39m__sentiment_analysis()\n",
      "Cell \u001b[1;32mIn[44], line 77\u001b[0m, in \u001b[0;36mNLPApp.__language_detection\u001b[1;34m(self)\u001b[0m\n\u001b[0;32m     75\u001b[0m para \u001b[38;5;241m=\u001b[39m \u001b[38;5;28minput\u001b[39m(\u001b[38;5;124m\"\u001b[39m\u001b[38;5;124mEnter your paragraph to start searching\u001b[39m\u001b[38;5;124m\"\u001b[39m)\n\u001b[0;32m     76\u001b[0m client \u001b[38;5;241m=\u001b[39m nlpcloud\u001b[38;5;241m.\u001b[39mClient(\u001b[38;5;124m\"\u001b[39m\u001b[38;5;124mpython-langdetect\u001b[39m\u001b[38;5;124m\"\u001b[39m, \u001b[38;5;124m\"\u001b[39m\u001b[38;5;124m26e6f488168c653ed405708a1b934dda96fd2b33\u001b[39m\u001b[38;5;124m\"\u001b[39m, gpu\u001b[38;5;241m=\u001b[39m\u001b[38;5;28;01mFalse\u001b[39;00m)\n\u001b[1;32m---> 77\u001b[0m response \u001b[38;5;241m=\u001b[39m client\u001b[38;5;241m.\u001b[39mlang_detection(\n\u001b[0;32m     78\u001b[0m     para\n\u001b[0;32m     79\u001b[0m )\n\u001b[0;32m     80\u001b[0m \u001b[38;5;28mprint\u001b[39m(response)\n",
      "\u001b[1;31mAttributeError\u001b[0m: 'Client' object has no attribute 'lang_detection'"
     ]
    }
   ],
   "source": [
    "a = NLPApp()"
   ]
  },
  {
   "cell_type": "code",
   "execution_count": 11,
   "id": "1451e36e-e165-4925-869d-87b3fa122d3a",
   "metadata": {},
   "outputs": [],
   "source": [
    "d = {'entities': [{'start': 7, 'end': 14, 'type': 'sports', 'text': 'cricket'}, {'start': 45, 'end': 53, 'type': 'sports', 'text': 'football'}, {'start': 55, 'end': 65, 'type': 'sports', 'text': 'basketball'}, {'start': 70, 'end': 78, 'type': 'sports', 'text': 'baseball'}, {'start': 102, 'end': 107, 'type': 'sports', 'text': 'chess'}]}\n"
   ]
  },
  {
   "cell_type": "code",
   "execution_count": 15,
   "id": "dd565935-0bf7-43b9-a026-ff88281b4061",
   "metadata": {},
   "outputs": [
    {
     "data": {
      "text/plain": [
       "'cricket'"
      ]
     },
     "execution_count": 15,
     "metadata": {},
     "output_type": "execute_result"
    }
   ],
   "source": [
    "d['entities'][0]['text']"
   ]
  },
  {
   "cell_type": "code",
   "execution_count": 23,
   "id": "56c08f10-8016-43aa-8801-458e2f292c9e",
   "metadata": {},
   "outputs": [
    {
     "name": "stdout",
     "output_type": "stream",
     "text": [
      "cricket, football, basketball, baseball, chess, "
     ]
    }
   ],
   "source": [
    "for i in d['entities']:\n",
    "    print(i['text'], end = ', ')"
   ]
  },
  {
   "cell_type": "code",
   "execution_count": 8,
   "id": "8fe1d307-0f9c-4556-91f0-f61fbf2aaf3f",
   "metadata": {},
   "outputs": [
    {
     "data": {
      "text/plain": [
       "{'entities': [{'start': 26,\n",
       "   'end': 36,\n",
       "   'type': 'programming languages',\n",
       "   'text': 'Javascript'},\n",
       "  {'start': 102,\n",
       "   'end': 108,\n",
       "   'type': 'programming languages',\n",
       "   'text': 'Python'},\n",
       "  {'start': 165, 'end': 167, 'type': 'programming languages', 'text': 'Go'}]}"
      ]
     },
     "execution_count": 8,
     "metadata": {},
     "output_type": "execute_result"
    }
   ],
   "source": [
    "import nlpcloud\n",
    "\n",
    "client = nlpcloud.Client(\"finetuned-llama-3-70b\", \"26e6f488168c653ed405708a1b934dda96fd2b33\", gpu=True)\n",
    "client.entities(\n",
    "    \"\"\"John Doe started learning Javascript when he was 15 years old. After a couple of years he switched to Python and starter learning low level programming. He is now a Go expert at Google.\"\"\",\n",
    "    searched_entity=\"programming languages\"\n",
    ")"
   ]
  },
  {
   "cell_type": "code",
   "execution_count": 27,
   "id": "697c687e-32a4-4882-bf51-d80bc51dd6f7",
   "metadata": {},
   "outputs": [
    {
     "data": {
      "text/plain": [
       "{'scored_labels': [{'label': 'NEUTRAL', 'score': 1},\n",
       "  {'label': 'frustration', 'score': 1}]}"
      ]
     },
     "execution_count": 27,
     "metadata": {},
     "output_type": "execute_result"
    }
   ],
   "source": [
    "import nlpcloud\n",
    "\n",
    "client = nlpcloud.Client(\"finetuned-llama-3-70b\", \"26e6f488168c653ed405708a1b934dda96fd2b33\", gpu=True)\n",
    "client.sentiment(\n",
    "    \"\"\"The only reason I'm not giving it 1 star is because the performances were incredible. Gary Oldman was phenomenal, and this was Natalie Portman's first acting credit, and she did so well considering how young she was.\"\"\",\n",
    "    target=\"NLP Cloud\"\n",
    ")"
   ]
  },
  {
   "cell_type": "code",
   "execution_count": 30,
   "id": "629df103-3639-41c7-8aa7-55d5a18422ee",
   "metadata": {},
   "outputs": [],
   "source": [
    "d = {'scored_labels': [{'label': 'NEGATIVE', 'score': 1}, {'label': 'frustration', 'score': 1}]}"
   ]
  },
  {
   "cell_type": "code",
   "execution_count": 32,
   "id": "f92ae614-f04e-4ff3-8de5-f79eb06c0089",
   "metadata": {},
   "outputs": [
    {
     "data": {
      "text/plain": [
       "[{'label': 'NEGATIVE', 'score': 1}, {'label': 'frustration', 'score': 1}]"
      ]
     },
     "execution_count": 32,
     "metadata": {},
     "output_type": "execute_result"
    }
   ],
   "source": [
    "d['scored_labels']"
   ]
  },
  {
   "cell_type": "code",
   "execution_count": 43,
   "id": "1b39d85e-3880-4e2e-a57c-f86413fcc460",
   "metadata": {},
   "outputs": [
    {
     "name": "stdout",
     "output_type": "stream",
     "text": [
      "NEGATIVE\n"
     ]
    }
   ],
   "source": [
    "L = list()\n",
    "for i in d['scored_labels']:\n",
    "    L.append(i['score'])\n",
    "\n",
    "index = sorted(list(enumerate(L)), key = lambda x: x[1], reverse = True)[0][0]\n",
    "response = d['scored_labels'][index]['label']\n",
    "print(response)"
   ]
  },
  {
   "cell_type": "code",
   "execution_count": 48,
   "id": "c313c3ea-92a2-4de6-b738-31854f07fd08",
   "metadata": {},
   "outputs": [
    {
     "ename": "AttributeError",
     "evalue": "'Client' object has no attribute 'lang_detection'",
     "output_type": "error",
     "traceback": [
      "\u001b[1;31m---------------------------------------------------------------------------\u001b[0m",
      "\u001b[1;31mAttributeError\u001b[0m                            Traceback (most recent call last)",
      "Cell \u001b[1;32mIn[48], line 4\u001b[0m\n\u001b[0;32m      1\u001b[0m \u001b[38;5;28;01mimport\u001b[39;00m \u001b[38;5;21;01mnlpcloud\u001b[39;00m\n\u001b[0;32m      3\u001b[0m client \u001b[38;5;241m=\u001b[39m nlpcloud\u001b[38;5;241m.\u001b[39mClient(\u001b[38;5;124m\"\u001b[39m\u001b[38;5;124mpython-langdetect\u001b[39m\u001b[38;5;124m\"\u001b[39m, \u001b[38;5;124m\"\u001b[39m\u001b[38;5;124m26e6f488168c653ed405708a1b934dda96fd2b33\u001b[39m\u001b[38;5;124m\"\u001b[39m, gpu\u001b[38;5;241m=\u001b[39m\u001b[38;5;28;01mFalse\u001b[39;00m)\n\u001b[1;32m----> 4\u001b[0m client\u001b[38;5;241m.\u001b[39mlang_detection(\n\u001b[0;32m      5\u001b[0m \u001b[38;5;250m    \u001b[39m\u001b[38;5;124;03m\"\"\"John Doe has been working for Microsoft in Seattle since 1999. Et il parle aussi un peu français.\"\"\"\u001b[39;00m\n\u001b[0;32m      6\u001b[0m )\n",
      "\u001b[1;31mAttributeError\u001b[0m: 'Client' object has no attribute 'lang_detection'"
     ]
    }
   ],
   "source": [
    "import nlpcloud\n",
    "\n",
    "client = nlpcloud.Client(\"python-langdetect\", \"26e6f488168c653ed405708a1b934dda96fd2b33\", gpu=False)\n",
    "client.lang_detection(\n",
    "    \"\"\"John Doe has been working for Microsoft in Seattle since 1999. Et il parle aussi un peu français.\"\"\"\n",
    ")"
   ]
  },
  {
   "cell_type": "code",
   "execution_count": null,
   "id": "9fcb37ae-02e9-4dc7-9f2c-260f402c4342",
   "metadata": {},
   "outputs": [],
   "source": []
  }
 ],
 "metadata": {
  "kernelspec": {
   "display_name": "Python 3 (ipykernel)",
   "language": "python",
   "name": "python3"
  },
  "language_info": {
   "codemirror_mode": {
    "name": "ipython",
    "version": 3
   },
   "file_extension": ".py",
   "mimetype": "text/x-python",
   "name": "python",
   "nbconvert_exporter": "python",
   "pygments_lexer": "ipython3",
   "version": "3.11.5"
  }
 },
 "nbformat": 4,
 "nbformat_minor": 5
}
