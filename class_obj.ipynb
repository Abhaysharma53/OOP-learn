{
 "cells": [
  {
   "cell_type": "code",
   "execution_count": null,
   "id": "1267c3db-0a77-42fc-b000-9700a17e3c98",
   "metadata": {},
   "outputs": [],
   "source": [
    "#Atm class"
   ]
  },
  {
   "cell_type": "code",
   "execution_count": null,
   "id": "89011894-fe99-4d78-8d52-b5398fa42242",
   "metadata": {},
   "outputs": [],
   "source": [
    "#class will have 2 things - variables & methods\n",
    "#variable initialization will be with constructor pin & variable\n",
    "#defining actions will be with methods\n",
    "#menu\n",
    "#create pin\n",
    "#set pin\n",
    "#check balance\n",
    "#withdraw\n",
    "#anything else"
   ]
  },
  {
   "cell_type": "code",
   "execution_count": 2,
   "id": "aa399448-7b2c-4fdb-b9ba-6e695b010f55",
   "metadata": {},
   "outputs": [],
   "source": [
    "class Atm:\n",
    "    def __init__(self):\n",
    "        self.pin = ''\n",
    "        self.balance = 0\n",
    "        self.menu()\n",
    "\n",
    "    def menu(self):\n",
    "        choice = int(input(\"\"\"Enter your Choice\n",
    "        1. Set PIN\n",
    "        2. Reset PIN\n",
    "        3. Check Balance\n",
    "        4. Cash Withdrawal\n",
    "        5. Anything else to Quit\"\"\"))\n",
    "\n",
    "        if choice == 1:\n",
    "            #set pin\n",
    "            self.SetPin()\n",
    "        elif choice == 2:\n",
    "            #reset pin\n",
    "            self.ResetPin()\n",
    "        elif choice == 3:\n",
    "            #check balance\n",
    "            self.CheckBalance()\n",
    "        elif choice == 4:\n",
    "            #cash withdrawal\n",
    "            self.CashWithdrawal()\n",
    "        else:\n",
    "            exit()\n",
    "\n",
    "\n",
    "    def SetPin(self):\n",
    "        pin = input(\"Enter the pin you want to set\")\n",
    "        self.pin = pin\n",
    "        balance = int(input(\"Enter your balance\"))\n",
    "        self.balance = balance\n",
    "        print(\"pin setup was successful\")\n",
    "        self.menu()\n",
    "\n",
    "\n",
    "    def ResetPin(self):\n",
    "        old_pin = input(\"Enter your current pin to proceed\")\n",
    "        if old_pin == self.pin:\n",
    "            new_pin = input(\"Enter the new pin\")\n",
    "            self.pin = new_pin\n",
    "            print(\"PIN Reset Successful\")\n",
    "        else:\n",
    "            print(\"Sorry! Entered Pin does not match. Please try again\")\n",
    "        self.menu()\n",
    "\n",
    "\n",
    "    def CheckBalance(self):\n",
    "        pin = input(\"Enter your current pin to proceed\")\n",
    "        if self.pin == pin:\n",
    "            print(\"The Current balance is {}\".format(self.balance))\n",
    "        else:\n",
    "            print(\"Entered Pin does not match. Please try again\")\n",
    "        self.menu()\n",
    "\n",
    "    def CashWithdrawal(self):\n",
    "        pin = input(\"Enter your pin to proceed\")\n",
    "        if pin == self.pin:\n",
    "            amount = int(input(\"Enter the amount you want to withdraw \"))\n",
    "            if amount <= self.balance:\n",
    "                self.balance = self.balance - amount\n",
    "                print(\"Cash Withdrawal successful. Available balance {}\".format(self.balance))\n",
    "            else:\n",
    "                print(\"Entered amount is invalid. please try again\")\n",
    "        else:\n",
    "            print(\"Error! The entered PIN does not match. please try again\")\n",
    "        self.menu()\n",
    "        "
   ]
  },
  {
   "cell_type": "code",
   "execution_count": 3,
   "id": "efc637ba-4754-46e5-987d-b101149aaefd",
   "metadata": {},
   "outputs": [
    {
     "name": "stdin",
     "output_type": "stream",
     "text": [
      "Enter your Choice\n",
      "        1. Set PIN\n",
      "        2. Reset PIN\n",
      "        3. Check Balance\n",
      "        4. Cash Withdrawal\n",
      "        5. Anything else to Quit 1\n",
      "Enter the pin you want to set 12345\n",
      "Enter your balance 6600\n"
     ]
    },
    {
     "name": "stdout",
     "output_type": "stream",
     "text": [
      "pin setup was successful\n"
     ]
    },
    {
     "name": "stdin",
     "output_type": "stream",
     "text": [
      "Enter your Choice\n",
      "        1. Set PIN\n",
      "        2. Reset PIN\n",
      "        3. Check Balance\n",
      "        4. Cash Withdrawal\n",
      "        5. Anything else to Quit 4\n",
      "Enter your pin to proceed 12345\n",
      "Enter the amount you want to withdraw  1220\n"
     ]
    },
    {
     "name": "stdout",
     "output_type": "stream",
     "text": [
      "Cash Withdrawal successful. Available balance 5380\n"
     ]
    },
    {
     "name": "stdin",
     "output_type": "stream",
     "text": [
      "Enter your Choice\n",
      "        1. Set PIN\n",
      "        2. Reset PIN\n",
      "        3. Check Balance\n",
      "        4. Cash Withdrawal\n",
      "        5. Anything else to Quit 4\n",
      "Enter your pin to proceed 12345\n",
      "Enter the amount you want to withdraw  6000\n"
     ]
    },
    {
     "name": "stdout",
     "output_type": "stream",
     "text": [
      "Entered amount is invalid. please try again\n"
     ]
    },
    {
     "name": "stdin",
     "output_type": "stream",
     "text": [
      "Enter your Choice\n",
      "        1. Set PIN\n",
      "        2. Reset PIN\n",
      "        3. Check Balance\n",
      "        4. Cash Withdrawal\n",
      "        5. Anything else to Quit 7\n"
     ]
    }
   ],
   "source": [
    "a = Atm()"
   ]
  },
  {
   "cell_type": "code",
   "execution_count": 4,
   "id": "771b5364-2c79-4100-9153-fd2f73ac3032",
   "metadata": {},
   "outputs": [
    {
     "data": {
      "text/plain": [
       "''"
      ]
     },
     "execution_count": 4,
     "metadata": {},
     "output_type": "execute_result"
    }
   ],
   "source": [
    "a.balance"
   ]
  },
  {
   "cell_type": "code",
   "execution_count": 36,
   "id": "c08f8e38-87cc-47ab-a597-1a1fe392597f",
   "metadata": {},
   "outputs": [],
   "source": [
    "class Fraction:\n",
    "    def __init__(self, x, y):\n",
    "        self.num = x\n",
    "        self.den = y\n",
    "\n",
    "    def __str__(self):\n",
    "        return '{}/{}'.format(self.num, self.den)\n",
    "\n",
    "    def __add__(self, other):\n",
    "        new_num = self.num * other.den + self.den * other.num\n",
    "        new_den = self.den * other.den\n",
    "        return '{}/{}'.format(new_num, new_den)\n",
    "\n",
    "    def __sub__(self, other):\n",
    "        new_num = self.num * other.den - self.den * other.num\n",
    "        new_den = self.den * other.den\n",
    "        return '{}/{}'.format(new_num, new_den)\n",
    "\n",
    "    def __mul__(self, other):\n",
    "        new_num = self.num * other.num\n",
    "        new_den = self.den * other.den\n",
    "        return '{}/{}'.format(new_num, new_den)\n",
    "\n",
    "    def __truediv__(self, other):\n",
    "        new_num = self.num * other.den\n",
    "        new_den = self.den * other.num\n",
    "        return '{}/{}'.format(new_num, new_den)\n",
    "\n",
    "    def convert_to_decimal(self):\n",
    "        return self.num/self.den\n",
    "\n",
    "\n",
    "\n"
   ]
  },
  {
   "cell_type": "code",
   "execution_count": 37,
   "id": "7c6fb9a0-bc5e-47f8-ad20-170da0cf166f",
   "metadata": {},
   "outputs": [],
   "source": [
    "a = Fraction(2, 3)"
   ]
  },
  {
   "cell_type": "code",
   "execution_count": 38,
   "id": "e7b3e831-0329-4188-8a5e-34ff57a22920",
   "metadata": {},
   "outputs": [
    {
     "name": "stdout",
     "output_type": "stream",
     "text": [
      "2/3\n"
     ]
    }
   ],
   "source": [
    "print(a)"
   ]
  },
  {
   "cell_type": "code",
   "execution_count": 39,
   "id": "3ceb03fc-4c5e-4f5d-830e-8aea1888c816",
   "metadata": {},
   "outputs": [],
   "source": [
    "b = Fraction(1, 3)"
   ]
  },
  {
   "cell_type": "code",
   "execution_count": 40,
   "id": "9d4f6e2e-a85c-4695-b90d-0e36d09eb4f0",
   "metadata": {},
   "outputs": [
    {
     "data": {
      "text/plain": [
       "'9/9'"
      ]
     },
     "execution_count": 40,
     "metadata": {},
     "output_type": "execute_result"
    }
   ],
   "source": [
    "a + b"
   ]
  },
  {
   "cell_type": "code",
   "execution_count": 41,
   "id": "76880dd3-d02e-42b8-83f2-ca2bd23c42f2",
   "metadata": {},
   "outputs": [
    {
     "data": {
      "text/plain": [
       "'3/9'"
      ]
     },
     "execution_count": 41,
     "metadata": {},
     "output_type": "execute_result"
    }
   ],
   "source": [
    "a - b"
   ]
  },
  {
   "cell_type": "code",
   "execution_count": 42,
   "id": "b25bb4b6-2fff-44cd-bb3c-831d6239fe68",
   "metadata": {},
   "outputs": [
    {
     "data": {
      "text/plain": [
       "'2/9'"
      ]
     },
     "execution_count": 42,
     "metadata": {},
     "output_type": "execute_result"
    }
   ],
   "source": [
    "a * b"
   ]
  },
  {
   "cell_type": "code",
   "execution_count": 43,
   "id": "e2a64d5f-0c0b-4c0e-94d8-955ecef1555a",
   "metadata": {},
   "outputs": [
    {
     "data": {
      "text/plain": [
       "'6/3'"
      ]
     },
     "execution_count": 43,
     "metadata": {},
     "output_type": "execute_result"
    }
   ],
   "source": [
    "a / b"
   ]
  },
  {
   "cell_type": "code",
   "execution_count": 44,
   "id": "87384623-ccfb-4175-8441-37294aa12c53",
   "metadata": {},
   "outputs": [
    {
     "data": {
      "text/plain": [
       "0.6666666666666666"
      ]
     },
     "execution_count": 44,
     "metadata": {},
     "output_type": "execute_result"
    }
   ],
   "source": [
    "a.convert_to_decimal()"
   ]
  },
  {
   "cell_type": "code",
   "execution_count": 7,
   "id": "d26de34b-d839-4ece-80cf-b460907088b9",
   "metadata": {},
   "outputs": [
    {
     "data": {
      "text/plain": [
       "1.0"
      ]
     },
     "execution_count": 7,
     "metadata": {},
     "output_type": "execute_result"
    }
   ],
   "source": [
    "2/3 + 1/3"
   ]
  },
  {
   "cell_type": "code",
   "execution_count": null,
   "id": "ff33945e-8138-4ff9-ae9d-45cff109df66",
   "metadata": {},
   "outputs": [],
   "source": []
  },
  {
   "cell_type": "code",
   "execution_count": null,
   "id": "40d196b5-4c35-4835-b0fe-ff93ed56ebf7",
   "metadata": {},
   "outputs": [],
   "source": []
  }
 ],
 "metadata": {
  "kernelspec": {
   "display_name": "Python 3 (ipykernel)",
   "language": "python",
   "name": "python3"
  },
  "language_info": {
   "codemirror_mode": {
    "name": "ipython",
    "version": 3
   },
   "file_extension": ".py",
   "mimetype": "text/x-python",
   "name": "python",
   "nbconvert_exporter": "python",
   "pygments_lexer": "ipython3",
   "version": "3.11.5"
  }
 },
 "nbformat": 4,
 "nbformat_minor": 5
}
