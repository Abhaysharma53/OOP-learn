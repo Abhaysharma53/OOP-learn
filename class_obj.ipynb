{
 "cells": [
  {
   "cell_type": "code",
   "execution_count": null,
   "id": "1267c3db-0a77-42fc-b000-9700a17e3c98",
   "metadata": {},
   "outputs": [],
   "source": [
    "#Atm class"
   ]
  },
  {
   "cell_type": "code",
   "execution_count": null,
   "id": "89011894-fe99-4d78-8d52-b5398fa42242",
   "metadata": {},
   "outputs": [],
   "source": [
    "#class will have 2 things - variables & methods\n",
    "#variable initialization will be with constructor pin & variable\n",
    "#defining actions will be with methods\n",
    "#menu\n",
    "#create pin\n",
    "#set pin\n",
    "#check balance\n",
    "#withdraw\n",
    "#anything else"
   ]
  },
  {
   "cell_type": "code",
   "execution_count": 2,
   "id": "aa399448-7b2c-4fdb-b9ba-6e695b010f55",
   "metadata": {},
   "outputs": [],
   "source": [
    "class Atm:\n",
    "    def __init__(self):\n",
    "        self.pin = ''\n",
    "        self.balance = 0\n",
    "        self.menu()\n",
    "\n",
    "    def menu(self):\n",
    "        choice = int(input(\"\"\"Enter your Choice\n",
    "        1. Set PIN\n",
    "        2. Reset PIN\n",
    "        3. Check Balance\n",
    "        4. Cash Withdrawal\n",
    "        5. Anything else to Quit\"\"\"))\n",
    "\n",
    "        if choice == 1:\n",
    "            #set pin\n",
    "            self.SetPin()\n",
    "        elif choice == 2:\n",
    "            #reset pin\n",
    "            self.ResetPin()\n",
    "        elif choice == 3:\n",
    "            #check balance\n",
    "            self.CheckBalance()\n",
    "        elif choice == 4:\n",
    "            #cash withdrawal\n",
    "            self.CashWithdrawal()\n",
    "        else:\n",
    "            exit()\n",
    "\n",
    "\n",
    "    def SetPin(self):\n",
    "        pin = input(\"Enter the pin you want to set\")\n",
    "        self.pin = pin\n",
    "        balance = int(input(\"Enter your balance\"))\n",
    "        self.balance = balance\n",
    "        print(\"pin setup was successful\")\n",
    "        self.menu()\n",
    "\n",
    "\n",
    "    def ResetPin(self):\n",
    "        old_pin = input(\"Enter your current pin to proceed\")\n",
    "        if old_pin == self.pin:\n",
    "            new_pin = input(\"Enter the new pin\")\n",
    "            self.pin = new_pin\n",
    "            print(\"PIN Reset Successful\")\n",
    "        else:\n",
    "            print(\"Sorry! Entered Pin does not match. Please try again\")\n",
    "        self.menu()\n",
    "\n",
    "\n",
    "    def CheckBalance(self):\n",
    "        pin = input(\"Enter your current pin to proceed\")\n",
    "        if self.pin == pin:\n",
    "            print(\"The Current balance is {}\".format(self.balance))\n",
    "        else:\n",
    "            print(\"Entered Pin does not match. Please try again\")\n",
    "        self.menu()\n",
    "\n",
    "    def CashWithdrawal(self):\n",
    "        pin = input(\"Enter your pin to proceed\")\n",
    "        if pin == self.pin:\n",
    "            amount = int(input(\"Enter the amount you want to withdraw \"))\n",
    "            if amount <= self.balance:\n",
    "                self.balance = self.balance - amount\n",
    "                print(\"Cash Withdrawal successful. Available balance {}\".format(self.balance))\n",
    "            else:\n",
    "                print(\"Entered amount is invalid. please try again\")\n",
    "        else:\n",
    "            print(\"Error! The entered PIN does not match. please try again\")\n",
    "        self.menu()\n",
    "            \n",
    "\n",
    "\n",
    "\n",
    "\n",
    "\n",
    "\n",
    "\n",
    "    \n",
    "\n"
   ]
  },
  {
   "cell_type": "code",
   "execution_count": 3,
   "id": "efc637ba-4754-46e5-987d-b101149aaefd",
   "metadata": {},
   "outputs": [
    {
     "name": "stdin",
     "output_type": "stream",
     "text": [
      "Enter your Choice\n",
      "        1. Set PIN\n",
      "        2. Reset PIN\n",
      "        3. Check Balance\n",
      "        4. Cash Withdrawal\n",
      "        5. Anything else to Quit 1\n",
      "Enter the pin you want to set 12345\n",
      "Enter your balance 6600\n"
     ]
    },
    {
     "name": "stdout",
     "output_type": "stream",
     "text": [
      "pin setup was successful\n"
     ]
    },
    {
     "name": "stdin",
     "output_type": "stream",
     "text": [
      "Enter your Choice\n",
      "        1. Set PIN\n",
      "        2. Reset PIN\n",
      "        3. Check Balance\n",
      "        4. Cash Withdrawal\n",
      "        5. Anything else to Quit 4\n",
      "Enter your pin to proceed 12345\n",
      "Enter the amount you want to withdraw  1220\n"
     ]
    },
    {
     "name": "stdout",
     "output_type": "stream",
     "text": [
      "Cash Withdrawal successful. Available balance 5380\n"
     ]
    },
    {
     "name": "stdin",
     "output_type": "stream",
     "text": [
      "Enter your Choice\n",
      "        1. Set PIN\n",
      "        2. Reset PIN\n",
      "        3. Check Balance\n",
      "        4. Cash Withdrawal\n",
      "        5. Anything else to Quit 4\n",
      "Enter your pin to proceed 12345\n",
      "Enter the amount you want to withdraw  6000\n"
     ]
    },
    {
     "name": "stdout",
     "output_type": "stream",
     "text": [
      "Entered amount is invalid. please try again\n"
     ]
    },
    {
     "name": "stdin",
     "output_type": "stream",
     "text": [
      "Enter your Choice\n",
      "        1. Set PIN\n",
      "        2. Reset PIN\n",
      "        3. Check Balance\n",
      "        4. Cash Withdrawal\n",
      "        5. Anything else to Quit 7\n"
     ]
    }
   ],
   "source": [
    "a = Atm()"
   ]
  },
  {
   "cell_type": "code",
   "execution_count": 4,
   "id": "771b5364-2c79-4100-9153-fd2f73ac3032",
   "metadata": {},
   "outputs": [
    {
     "data": {
      "text/plain": [
       "''"
      ]
     },
     "execution_count": 4,
     "metadata": {},
     "output_type": "execute_result"
    }
   ],
   "source": [
    "a.balance"
   ]
  },
  {
   "cell_type": "code",
   "execution_count": null,
   "id": "c08f8e38-87cc-47ab-a597-1a1fe392597f",
   "metadata": {},
   "outputs": [],
   "source": []
  }
 ],
 "metadata": {
  "kernelspec": {
   "display_name": "Python 3 (ipykernel)",
   "language": "python",
   "name": "python3"
  },
  "language_info": {
   "codemirror_mode": {
    "name": "ipython",
    "version": 3
   },
   "file_extension": ".py",
   "mimetype": "text/x-python",
   "name": "python",
   "nbconvert_exporter": "python",
   "pygments_lexer": "ipython3",
   "version": "3.11.5"
  }
 },
 "nbformat": 4,
 "nbformat_minor": 5
}
