{
 "cells": [
  {
   "cell_type": "markdown",
   "metadata": {
    "id": "BCleRtX43caS"
   },
   "source": [
    "### `Problem-1:` Class inheritence\n",
    "\n",
    "Create a **Bus** child class that inherits from the Vehicle class. The default fare charge of any vehicle is seating capacity * 100. If Vehicle is Bus instance, we need to add an extra 10% on full fare as a maintenance charge. So total fare for bus instance will become the final amount = total fare + 10% of the total fare.\n",
    "\n",
    "Note: The bus seating capacity is 50. so the final fare amount should be 5500. You need to override the fare() method of a Vehicle class in Bus class."
   ]
  },
  {
   "cell_type": "code",
   "execution_count": 3,
   "metadata": {},
   "outputs": [],
   "source": [
    "class Vehicle:\n",
    "    def __init__(self, capacity):\n",
    "        self.capacity = capacity\n",
    "\n",
    "    def fare(self):\n",
    "        fare_charge = self.capacity * 100\n",
    "        return fare_charge\n",
    "\n",
    "class Bus(Vehicle):\n",
    "    def fare(self):\n",
    "        fare_charge = super().fare() + (0.1 * super().fare())\n",
    "        return fare_charge\n",
    "\n"
   ]
  },
  {
   "cell_type": "code",
   "execution_count": 4,
   "metadata": {
    "colab": {
     "base_uri": "https://localhost:8080/"
    },
    "id": "6jVFCXKz3YZI",
    "outputId": "a8649209-08e2-4f60-a914-74a914dd697e"
   },
   "outputs": [
    {
     "data": {
      "text/plain": [
       "5500.0"
      ]
     },
     "execution_count": 4,
     "metadata": {},
     "output_type": "execute_result"
    }
   ],
   "source": [
    "# Write code here\n",
    "A = Bus(50)\n",
    "A.fare()"
   ]
  },
  {
   "cell_type": "markdown",
   "metadata": {
    "id": "KBbGNTtQ47mJ"
   },
   "source": [
    "### `Problem-2:` Class Inheritence\n",
    "\n",
    "Create a Bus class that inherits from the Vehicle class. Give the capacity argument of *Bus.seating_capacity()* a default value of 50.\n",
    "\n",
    "Use the following code for your parent Vehicle class."
   ]
  },
  {
   "cell_type": "code",
   "execution_count": null,
   "metadata": {
    "id": "MwOnYE_14M-r"
   },
   "outputs": [],
   "source": []
  },
  {
   "cell_type": "code",
   "execution_count": null,
   "metadata": {
    "id": "Py5Gr0ip5OBB"
   },
   "outputs": [],
   "source": []
  },
  {
   "cell_type": "markdown",
   "metadata": {
    "id": "ExIxsv4y-oEd"
   },
   "source": [
    "### `Problem-3:` Write a program that has a class Point. Define another class Location which has two objects (Location & Destination) of class Point. Also define a function in Location that prints the reflection of Destination on the x axis."
   ]
  },
  {
   "cell_type": "code",
   "execution_count": 9,
   "metadata": {
    "id": "yT2QtzQp5VAB"
   },
   "outputs": [],
   "source": [
    "class Point:\n",
    "    def __init__(self, x, y):\n",
    "        self.x = x\n",
    "        self.y = y\n",
    "\n",
    "    def show_point(self):\n",
    "        return f\"{self.x}, {self.y}\"\n",
    "\n",
    "class location:\n",
    "    def __init__(self, x1, y1, x2, y2):\n",
    "        self.source = Point(x1, y1)\n",
    "        self.destination = Point(x2, y2)\n",
    "\n",
    "    def show_location(self):\n",
    "        print(f\"source point : {self.source.show_point()}\")\n",
    "        print(f\"destination point : {self.destination.show_point()}\")\n",
    "\n",
    "    def reflection(self):\n",
    "        self.destination.y = -self.destination.y\n",
    "        print(f\"Reflection Point : {self.destination.show_point()}\")"
   ]
  },
  {
   "cell_type": "code",
   "execution_count": 11,
   "metadata": {},
   "outputs": [
    {
     "name": "stdout",
     "output_type": "stream",
     "text": [
      "source point : 3, 5\n",
      "destination point : 2, 3\n",
      "Reflection Point : 2, -3\n"
     ]
    }
   ],
   "source": [
    "source = location(3, 5, 2, 3)\n",
    "source.show_location()\n",
    "\n",
    "source.reflection()\n",
    "\n",
    "\n"
   ]
  },
  {
   "cell_type": "markdown",
   "metadata": {
    "id": "OcQhJvXVALgp"
   },
   "source": [
    "### `Problem-4:` Write a program that has an abstract class Polygon. Derive two classes Rectangle and Triamgle from Polygon and write methods to get the details of their dimensions and hence calculate the area."
   ]
  },
  {
   "cell_type": "code",
   "execution_count": 13,
   "metadata": {
    "id": "9IMrtdUH__eA"
   },
   "outputs": [],
   "source": [
    "from abc import ABC, abstractmethod\n",
    "class Polygon(ABC):\n",
    "    def get_dimension():\n",
    "        pass\n",
    "\n",
    "    def calc_area():\n",
    "        pass\n",
    "\n",
    "class Triangle(Polygon):\n",
    "    def __init__(self, h, b):\n",
    "        self.base = b\n",
    "        self.height = h\n",
    "\n",
    "    def calc_area(self):\n",
    "        return (0.5 * self.base * self.height)\n",
    "\n",
    "    def get_dimension(self):\n",
    "        print(f\"Base : {self.base}\")\n",
    "        print(f\"Height : {self.height}\")\n",
    "\n",
    "class Rectangle(Polygon):\n",
    "    def __init__(self, h, w):\n",
    "        self.height = h\n",
    "        self.width = w\n",
    "\n",
    "    def calc_area(self):\n",
    "        return self.height * self.width\n",
    "\n",
    "    def get_dimension(self):\n",
    "        print(f\"Height: {self.height}\")\n",
    "        print(f\"Width: {self.width}\")\n",
    "    "
   ]
  },
  {
   "cell_type": "code",
   "execution_count": 14,
   "metadata": {},
   "outputs": [
    {
     "name": "stdout",
     "output_type": "stream",
     "text": [
      "Height: 5\n",
      "Width: 7\n"
     ]
    }
   ],
   "source": [
    "rect = Rectangle(5, 7)\n",
    "rect.get_dimension()"
   ]
  },
  {
   "cell_type": "markdown",
   "metadata": {
    "id": "sEsGEqOHCSWG"
   },
   "source": [
    "### `Problem-5:` Write a program with class Bill. The users have the option to pay the bill either by cheque or by cash. Use the inheritance to model this situation."
   ]
  },
  {
   "cell_type": "code",
   "execution_count": 45,
   "metadata": {
    "id": "l0WFyP2PB3nf"
   },
   "outputs": [],
   "source": [
    "class Bill:\n",
    "    def __init__(self, item, price):\n",
    "        self.total = 0\n",
    "        self.item = item\n",
    "        self.price = price\n",
    "        for i in self.price:\n",
    "            self.total = self.total + i\n",
    "\n",
    "        \n",
    "\n",
    "    def display_bill(self):\n",
    "        print(f\"Your total bill: {self.total}\")\n",
    "        print(\"Item \\t\\t\\t Price\")\n",
    "        for i in range(len(self.price)):\n",
    "            print(f\"{self.item[i]} \\t\\t\\t {self.price[i]}\")\n",
    "            \n",
    "        \n",
    "class Cash_Payment(Bill):\n",
    "    def __init__(self, item, price, deno, value):\n",
    "        super().__init__(item, price)\n",
    "        self.deno = deno\n",
    "        self.value =value\n",
    "\n",
    "    def cash_denomination(self):\n",
    "        self.total_cash = 0\n",
    "        for i in range(len(self.deno)):\n",
    "            cash_value = self.deno[i] * self.value[i]\n",
    "            print(self.deno[i], \"*\", self.value[i], \"=\", cash_value)\n",
    "            self.total_cash = self.total_cash + cash_value\n",
    "        print(f\"total amount given {self.total_cash}\")\n",
    "        if self.total_cash > self.total:\n",
    "            print(\"Amount to be returned \", self.total_cash - self.total)\n",
    "        else:\n",
    "            print(\"Amount still needed\", self.total - self.total_cash)\n",
    "\n",
    "class Cheque_Payment(Bill):\n",
    "    def __init__(self, item, price):\n",
    "        super().__init__(item, price)\n",
    "        self.cno = input(\"Enter Cheque number\")\n",
    "        self.bank_name = input(\"Enter Bank Name\")\n",
    "\n",
    "    def show_cheque_payment(self):\n",
    "        super().display_bill()\n",
    "        print('Cheque no',self.cno)\n",
    "        print('Bank name',self.bank_name)\n",
    "        \n",
    "    \n",
    "        \n",
    "        \n",
    "\n"
   ]
  },
  {
   "cell_type": "code",
   "execution_count": 39,
   "metadata": {},
   "outputs": [],
   "source": [
    "electronics = Bill([\"Pen Drive\", \"Mouse\", \"Printer\"], [800, 600, 12000])"
   ]
  },
  {
   "cell_type": "code",
   "execution_count": 22,
   "metadata": {},
   "outputs": [
    {
     "name": "stdout",
     "output_type": "stream",
     "text": [
      "Your total bill: 13400\n",
      "Item \t\t\t Price\n",
      "Pen Drive \t\t\t 800\n",
      "Mouse \t\t\t 600\n",
      "Printer \t\t\t 12000\n"
     ]
    }
   ],
   "source": [
    "electronics.display_bill()"
   ]
  },
  {
   "cell_type": "code",
   "execution_count": 26,
   "metadata": {},
   "outputs": [],
   "source": [
    "electronics = Cash_Payment([\"Pen Drive\", \"Mouse\", \"Printer\"], [800, 600, 12000], [2000, 500, 100], [6, 2, 2])"
   ]
  },
  {
   "cell_type": "code",
   "execution_count": 27,
   "metadata": {},
   "outputs": [
    {
     "name": "stdout",
     "output_type": "stream",
     "text": [
      "Your total bill: 13400\n",
      "Item \t\t\t Price\n",
      "Pen Drive \t\t\t 800\n",
      "Mouse \t\t\t 600\n",
      "Printer \t\t\t 12000\n"
     ]
    }
   ],
   "source": [
    "electronics.display_bill()"
   ]
  },
  {
   "cell_type": "code",
   "execution_count": 28,
   "metadata": {
    "scrolled": true
   },
   "outputs": [
    {
     "name": "stdout",
     "output_type": "stream",
     "text": [
      "2000 * 6 = 12000\n",
      "500 * 2 = 1000\n",
      "100 * 2 = 200\n",
      "total amount given 13200\n",
      "Amount still needed 200\n"
     ]
    }
   ],
   "source": [
    "electronics.cash_denomination()"
   ]
  },
  {
   "cell_type": "code",
   "execution_count": 40,
   "metadata": {},
   "outputs": [
    {
     "name": "stdin",
     "output_type": "stream",
     "text": [
      "Enter Cheque number 45334345\n",
      "Enter Bank Name ICICI\n"
     ]
    }
   ],
   "source": [
    "electronics = Cheque_Payment([\"Pen Drive\", \"Mouse\", \"Printer\"], [800, 600, 12000])"
   ]
  },
  {
   "cell_type": "code",
   "execution_count": 41,
   "metadata": {
    "scrolled": true
   },
   "outputs": [
    {
     "name": "stdout",
     "output_type": "stream",
     "text": [
      "Your total bill: 13400\n",
      "Item \t\t\t Price\n",
      "Pen Drive \t\t\t 800\n",
      "Mouse \t\t\t 600\n",
      "Printer \t\t\t 12000\n",
      "Cheque no 45334345\n",
      "Bank name ICICI\n"
     ]
    }
   ],
   "source": [
    "electronics.cheque_payment()"
   ]
  },
  {
   "cell_type": "code",
   "execution_count": 46,
   "metadata": {},
   "outputs": [
    {
     "name": "stdin",
     "output_type": "stream",
     "text": [
      "Would you like to pay by cheque or cash (1/2):  1\n",
      "Enter Cheque number 34556476\n",
      "Enter Bank Name SBI\n"
     ]
    },
    {
     "name": "stdout",
     "output_type": "stream",
     "text": [
      "Your total bill: 13800\n",
      "Item \t\t\t Price\n",
      "External Hard Disk \t\t\t 5000\n",
      "RAM \t\t\t 2000\n",
      "Printer \t\t\t 6000\n",
      "Pen Drive \t\t\t 800\n",
      "Cheque no 34556476\n",
      "Bank name SBI\n"
     ]
    }
   ],
   "source": [
    "items = [\"External Hard Disk\", \"RAM\", \"Printer\", \"Pen Drive\"]\n",
    "price = [5000, 2000, 6000, 800]\n",
    "option = int(input(\"Would you like to pay by cheque or cash (1/2): \"))\n",
    "\n",
    "if option == 1:\n",
    "    cheque = Cheque_Payment(items, price)\n",
    "    cheque.show_cheque_payment()\n",
    "\n",
    "else:\n",
    "    deno = [10, 20, 50, 100, 500, 2000]\n",
    "    value = [1, 1, 1, 20, 4, 5]\n",
    "    cash = Cash_Payment(items, price, deno, value)\n",
    "    cash.show_cash_payment()"
   ]
  },
  {
   "cell_type": "markdown",
   "metadata": {
    "id": "v1M5Yh9ZZO0z"
   },
   "source": [
    "###`Q-6:` FlexibleDict\n",
    "As of now we are accessing values from dictionary with exact keys. Now we want to amend accessing values functionality. if a dict have key `1` (int) the even if we try to access values by giving `'1'` (1 as str) as key, we should get the same result and vice versa.\n",
    "\n",
    "Write a class `FlexibleDict` upon builtin `dict` class with above required functionality.\n",
    "\n",
    "Hint- `dict[key] => dict.__getitem__(key)`"
   ]
  },
  {
   "cell_type": "markdown",
   "metadata": {
    "id": "uajGeWegbfda"
   },
   "source": [
    "Ex.\n",
    "```\n",
    "fd = FlexibleDict()\n",
    "fd['a'] = 100\n",
    "print(fd['a']) # Like regular dict\n",
    "\n",
    "fd[5] = 500\n",
    "print(fd[5]) # Like regular dict\n",
    "\n",
    "fd[1] = 100\n",
    "print(fd['1']) # actual Key is int but still trying to access through str key.\n",
    "fd['1'] = 100\n",
    "print(fd[1])\n",
    "\n",
    "```\n",
    "`Output:`\n",
    "```\n",
    "100\n",
    "500\n",
    "100\n",
    "100\n",
    "\n",
    "```"
   ]
  },
  {
   "cell_type": "code",
   "execution_count": null,
   "metadata": {
    "id": "OHLbOtCxZ2nw"
   },
   "outputs": [],
   "source": []
  },
  {
   "cell_type": "code",
   "execution_count": null,
   "metadata": {
    "id": "7NM8r__dmeMf"
   },
   "outputs": [],
   "source": []
  },
  {
   "cell_type": "code",
   "execution_count": null,
   "metadata": {
    "id": "waHSud8Ymkz-"
   },
   "outputs": [],
   "source": []
  }
 ],
 "metadata": {
  "colab": {
   "collapsed_sections": [
    "BCleRtX43caS",
    "KBbGNTtQ47mJ",
    "ExIxsv4y-oEd",
    "OcQhJvXVALgp",
    "sEsGEqOHCSWG",
    "v1M5Yh9ZZO0z"
   ],
   "provenance": []
  },
  "kernelspec": {
   "display_name": "Python 3 (ipykernel)",
   "language": "python",
   "name": "python3"
  },
  "language_info": {
   "codemirror_mode": {
    "name": "ipython",
    "version": 3
   },
   "file_extension": ".py",
   "mimetype": "text/x-python",
   "name": "python",
   "nbconvert_exporter": "python",
   "pygments_lexer": "ipython3",
   "version": "3.11.5"
  }
 },
 "nbformat": 4,
 "nbformat_minor": 4
}
