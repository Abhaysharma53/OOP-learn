{
 "cells": [
  {
   "cell_type": "code",
   "execution_count": null,
   "id": "1267c3db-0a77-42fc-b000-9700a17e3c98",
   "metadata": {},
   "outputs": [],
   "source": [
    "#Atm class"
   ]
  },
  {
   "cell_type": "code",
   "execution_count": null,
   "id": "89011894-fe99-4d78-8d52-b5398fa42242",
   "metadata": {},
   "outputs": [],
   "source": [
    "#class will have 2 things - variables & methods\n",
    "#variable initialization will be with constructor pin & variable\n",
    "#defining actions will be with methods\n",
    "#menu\n",
    "#create pin\n",
    "#set pin\n",
    "#check balance\n",
    "#withdraw\n",
    "#anything else"
   ]
  },
  {
   "cell_type": "code",
   "execution_count": 1,
   "id": "aa399448-7b2c-4fdb-b9ba-6e695b010f55",
   "metadata": {},
   "outputs": [],
   "source": [
    "class Atm:\n",
    "    def __init__(self):\n",
    "        self.pin = ''\n",
    "        self.balance = 0\n",
    "        self.menu()\n",
    "\n",
    "    def menu(self):\n",
    "        choice = int(input(\"\"\"Enter your Choice\n",
    "        1. Set PIN\n",
    "        2. Reset PIN\n",
    "        3. Check Balance\n",
    "        4. Cash Withdrawal\n",
    "        5. Anything else to Quit\"\"\"))\n",
    "\n",
    "        if choice == 1:\n",
    "            #set pin\n",
    "            self.SetPin()\n",
    "        elif choice == 2:\n",
    "            #reset pin\n",
    "            self.ResetPin()\n",
    "        elif choice == 3:\n",
    "            #check balance\n",
    "            self.CheckBalance()\n",
    "        elif choice == 4:\n",
    "            #cash withdrawal\n",
    "            self.CashWithdrawal()\n",
    "        else:\n",
    "            exit()\n",
    "\n",
    "\n",
    "    def SetPin(self):\n",
    "        pin = input(\"Enter the pin you want to set\")\n",
    "        self.pin = pin\n",
    "        balance = int(input(\"Enter your balance\"))\n",
    "        self.balance = balance\n",
    "        print(\"pin setup was successful\")\n",
    "        self.menu()\n",
    "\n",
    "\n",
    "    def ResetPin(self):\n",
    "        old_pin = input(\"Enter your current pin to proceed\")\n",
    "        if old_pin == self.pin:\n",
    "            new_pin = input(\"Enter the new pin\")\n",
    "            self.pin = new_pin\n",
    "            print(\"PIN Reset Successful\")\n",
    "        else:\n",
    "            print(\"Sorry! Entered Pin does not match. Please try again\")\n",
    "        self.menu()\n",
    "\n",
    "\n",
    "    def CheckBalance(self):\n",
    "        pin = input(\"Enter your current pin to proceed\")\n",
    "        if self.pin == pin:\n",
    "            print(\"The Current balance is {}\".format(self.balance))\n",
    "        else:\n",
    "            print(\"Entered Pin does not match. Please try again\")\n",
    "        self.menu()\n",
    "\n",
    "    def CashWithdrawal(self):\n",
    "        pin = input(\"Enter your pin to proceed\")\n",
    "        if pin == self.pin:\n",
    "            amount = int(input(\"Enter the amount you want to withdraw \"))\n",
    "            if amount <= self.balance:\n",
    "                self.balance = self.balance - amount\n",
    "                print(\"Cash Withdrawal successful\")\n",
    "            else:\n",
    "                print(\"Entered amount is invalid. please try again\")\n",
    "        else:\n",
    "            print(\"Error! The entered PIN does not match. please try again\")\n",
    "        self.menu()\n",
    "            \n",
    "\n",
    "\n",
    "\n",
    "\n",
    "\n",
    "\n",
    "\n",
    "    \n",
    "\n"
   ]
  },
  {
   "cell_type": "code",
   "execution_count": 2,
   "id": "efc637ba-4754-46e5-987d-b101149aaefd",
   "metadata": {},
   "outputs": [
    {
     "name": "stdin",
     "output_type": "stream",
     "text": [
      "Enter your Choice\n",
      "        1. Set PIN\n",
      "        2. Reset PIN\n",
      "        3. Check Balance\n",
      "        4. Cash Withdrawal\n",
      "        5. Anything else to Quit 1\n",
      "Enter the pin you want to set 12345\n",
      "Enter your balance 6000\n"
     ]
    },
    {
     "name": "stdout",
     "output_type": "stream",
     "text": [
      "pin setup was successful\n"
     ]
    },
    {
     "name": "stdin",
     "output_type": "stream",
     "text": [
      "Enter your Choice\n",
      "        1. Set PIN\n",
      "        2. Reset PIN\n",
      "        3. Check Balance\n",
      "        4. Cash Withdrawal\n",
      "        5. Anything else to Quit 3\n",
      "Enter your current pin to proceed 1234\n"
     ]
    },
    {
     "name": "stdout",
     "output_type": "stream",
     "text": [
      "Entered Pin does not match. Please try again\n"
     ]
    },
    {
     "name": "stdin",
     "output_type": "stream",
     "text": [
      "Enter your Choice\n",
      "        1. Set PIN\n",
      "        2. Reset PIN\n",
      "        3. Check Balance\n",
      "        4. Cash Withdrawal\n",
      "        5. Anything else to Quit 3\n",
      "Enter your current pin to proceed 12345\n"
     ]
    },
    {
     "name": "stdout",
     "output_type": "stream",
     "text": [
      "The Current balance is 6000\n"
     ]
    },
    {
     "name": "stdin",
     "output_type": "stream",
     "text": [
      "Enter your Choice\n",
      "        1. Set PIN\n",
      "        2. Reset PIN\n",
      "        3. Check Balance\n",
      "        4. Cash Withdrawal\n",
      "        5. Anything else to Quit 4\n",
      "Enter your pin to proceed 12345\n",
      "Enter the amount you want to withdraw  4550\n"
     ]
    },
    {
     "ename": "TypeError",
     "evalue": "'<=' not supported between instances of 'str' and 'int'",
     "output_type": "error",
     "traceback": [
      "\u001b[1;31m---------------------------------------------------------------------------\u001b[0m",
      "\u001b[1;31mTypeError\u001b[0m                                 Traceback (most recent call last)",
      "Cell \u001b[1;32mIn[2], line 1\u001b[0m\n\u001b[1;32m----> 1\u001b[0m a \u001b[38;5;241m=\u001b[39m Atm()\n",
      "Cell \u001b[1;32mIn[1], line 5\u001b[0m, in \u001b[0;36mAtm.__init__\u001b[1;34m(self)\u001b[0m\n\u001b[0;32m      3\u001b[0m \u001b[38;5;28mself\u001b[39m\u001b[38;5;241m.\u001b[39mpin \u001b[38;5;241m=\u001b[39m \u001b[38;5;124m'\u001b[39m\u001b[38;5;124m'\u001b[39m\n\u001b[0;32m      4\u001b[0m \u001b[38;5;28mself\u001b[39m\u001b[38;5;241m.\u001b[39mbalance \u001b[38;5;241m=\u001b[39m \u001b[38;5;241m0\u001b[39m\n\u001b[1;32m----> 5\u001b[0m \u001b[38;5;28mself\u001b[39m\u001b[38;5;241m.\u001b[39mmenu()\n",
      "Cell \u001b[1;32mIn[1], line 17\u001b[0m, in \u001b[0;36mAtm.menu\u001b[1;34m(self)\u001b[0m\n\u001b[0;32m      8\u001b[0m choice \u001b[38;5;241m=\u001b[39m \u001b[38;5;28mint\u001b[39m(\u001b[38;5;28minput\u001b[39m(\u001b[38;5;124m\"\"\"\u001b[39m\u001b[38;5;124mEnter your Choice\u001b[39m\n\u001b[0;32m      9\u001b[0m \u001b[38;5;124m1. Set PIN\u001b[39m\n\u001b[0;32m     10\u001b[0m \u001b[38;5;124m2. Reset PIN\u001b[39m\n\u001b[0;32m     11\u001b[0m \u001b[38;5;124m3. Check Balance\u001b[39m\n\u001b[0;32m     12\u001b[0m \u001b[38;5;124m4. Cash Withdrawal\u001b[39m\n\u001b[0;32m     13\u001b[0m \u001b[38;5;124m5. Anything else to Quit\u001b[39m\u001b[38;5;124m\"\"\"\u001b[39m))\n\u001b[0;32m     15\u001b[0m \u001b[38;5;28;01mif\u001b[39;00m choice \u001b[38;5;241m==\u001b[39m \u001b[38;5;241m1\u001b[39m:\n\u001b[0;32m     16\u001b[0m     \u001b[38;5;66;03m#set pin\u001b[39;00m\n\u001b[1;32m---> 17\u001b[0m     \u001b[38;5;28mself\u001b[39m\u001b[38;5;241m.\u001b[39mSetPin()\n\u001b[0;32m     18\u001b[0m \u001b[38;5;28;01melif\u001b[39;00m choice \u001b[38;5;241m==\u001b[39m \u001b[38;5;241m2\u001b[39m:\n\u001b[0;32m     19\u001b[0m     \u001b[38;5;66;03m#reset pin\u001b[39;00m\n\u001b[0;32m     20\u001b[0m     \u001b[38;5;28mself\u001b[39m\u001b[38;5;241m.\u001b[39mResetPin()\n",
      "Cell \u001b[1;32mIn[1], line 37\u001b[0m, in \u001b[0;36mAtm.SetPin\u001b[1;34m(self)\u001b[0m\n\u001b[0;32m     35\u001b[0m \u001b[38;5;28mself\u001b[39m\u001b[38;5;241m.\u001b[39mbalance \u001b[38;5;241m=\u001b[39m balance\n\u001b[0;32m     36\u001b[0m \u001b[38;5;28mprint\u001b[39m(\u001b[38;5;124m\"\u001b[39m\u001b[38;5;124mpin setup was successful\u001b[39m\u001b[38;5;124m\"\u001b[39m)\n\u001b[1;32m---> 37\u001b[0m \u001b[38;5;28mself\u001b[39m\u001b[38;5;241m.\u001b[39mmenu()\n",
      "Cell \u001b[1;32mIn[1], line 23\u001b[0m, in \u001b[0;36mAtm.menu\u001b[1;34m(self)\u001b[0m\n\u001b[0;32m     20\u001b[0m     \u001b[38;5;28mself\u001b[39m\u001b[38;5;241m.\u001b[39mResetPin()\n\u001b[0;32m     21\u001b[0m \u001b[38;5;28;01melif\u001b[39;00m choice \u001b[38;5;241m==\u001b[39m \u001b[38;5;241m3\u001b[39m:\n\u001b[0;32m     22\u001b[0m     \u001b[38;5;66;03m#check balance\u001b[39;00m\n\u001b[1;32m---> 23\u001b[0m     \u001b[38;5;28mself\u001b[39m\u001b[38;5;241m.\u001b[39mCheckBalance()\n\u001b[0;32m     24\u001b[0m \u001b[38;5;28;01melif\u001b[39;00m choice \u001b[38;5;241m==\u001b[39m \u001b[38;5;241m4\u001b[39m:\n\u001b[0;32m     25\u001b[0m     \u001b[38;5;66;03m#cash withdrawal\u001b[39;00m\n\u001b[0;32m     26\u001b[0m     \u001b[38;5;28mself\u001b[39m\u001b[38;5;241m.\u001b[39mCashWithdrawal()\n",
      "Cell \u001b[1;32mIn[1], line 57\u001b[0m, in \u001b[0;36mAtm.CheckBalance\u001b[1;34m(self)\u001b[0m\n\u001b[0;32m     55\u001b[0m \u001b[38;5;28;01melse\u001b[39;00m:\n\u001b[0;32m     56\u001b[0m     \u001b[38;5;28mprint\u001b[39m(\u001b[38;5;124m\"\u001b[39m\u001b[38;5;124mEntered Pin does not match. Please try again\u001b[39m\u001b[38;5;124m\"\u001b[39m)\n\u001b[1;32m---> 57\u001b[0m \u001b[38;5;28mself\u001b[39m\u001b[38;5;241m.\u001b[39mmenu()\n",
      "Cell \u001b[1;32mIn[1], line 23\u001b[0m, in \u001b[0;36mAtm.menu\u001b[1;34m(self)\u001b[0m\n\u001b[0;32m     20\u001b[0m     \u001b[38;5;28mself\u001b[39m\u001b[38;5;241m.\u001b[39mResetPin()\n\u001b[0;32m     21\u001b[0m \u001b[38;5;28;01melif\u001b[39;00m choice \u001b[38;5;241m==\u001b[39m \u001b[38;5;241m3\u001b[39m:\n\u001b[0;32m     22\u001b[0m     \u001b[38;5;66;03m#check balance\u001b[39;00m\n\u001b[1;32m---> 23\u001b[0m     \u001b[38;5;28mself\u001b[39m\u001b[38;5;241m.\u001b[39mCheckBalance()\n\u001b[0;32m     24\u001b[0m \u001b[38;5;28;01melif\u001b[39;00m choice \u001b[38;5;241m==\u001b[39m \u001b[38;5;241m4\u001b[39m:\n\u001b[0;32m     25\u001b[0m     \u001b[38;5;66;03m#cash withdrawal\u001b[39;00m\n\u001b[0;32m     26\u001b[0m     \u001b[38;5;28mself\u001b[39m\u001b[38;5;241m.\u001b[39mCashWithdrawal()\n",
      "Cell \u001b[1;32mIn[1], line 57\u001b[0m, in \u001b[0;36mAtm.CheckBalance\u001b[1;34m(self)\u001b[0m\n\u001b[0;32m     55\u001b[0m \u001b[38;5;28;01melse\u001b[39;00m:\n\u001b[0;32m     56\u001b[0m     \u001b[38;5;28mprint\u001b[39m(\u001b[38;5;124m\"\u001b[39m\u001b[38;5;124mEntered Pin does not match. Please try again\u001b[39m\u001b[38;5;124m\"\u001b[39m)\n\u001b[1;32m---> 57\u001b[0m \u001b[38;5;28mself\u001b[39m\u001b[38;5;241m.\u001b[39mmenu()\n",
      "Cell \u001b[1;32mIn[1], line 26\u001b[0m, in \u001b[0;36mAtm.menu\u001b[1;34m(self)\u001b[0m\n\u001b[0;32m     23\u001b[0m     \u001b[38;5;28mself\u001b[39m\u001b[38;5;241m.\u001b[39mCheckBalance()\n\u001b[0;32m     24\u001b[0m \u001b[38;5;28;01melif\u001b[39;00m choice \u001b[38;5;241m==\u001b[39m \u001b[38;5;241m4\u001b[39m:\n\u001b[0;32m     25\u001b[0m     \u001b[38;5;66;03m#cash withdrawal\u001b[39;00m\n\u001b[1;32m---> 26\u001b[0m     \u001b[38;5;28mself\u001b[39m\u001b[38;5;241m.\u001b[39mCashWithdrawal()\n\u001b[0;32m     27\u001b[0m \u001b[38;5;28;01melse\u001b[39;00m:\n\u001b[0;32m     28\u001b[0m     exit()\n",
      "Cell \u001b[1;32mIn[1], line 63\u001b[0m, in \u001b[0;36mAtm.CashWithdrawal\u001b[1;34m(self)\u001b[0m\n\u001b[0;32m     61\u001b[0m \u001b[38;5;28;01mif\u001b[39;00m pin \u001b[38;5;241m==\u001b[39m \u001b[38;5;28mself\u001b[39m\u001b[38;5;241m.\u001b[39mpin:\n\u001b[0;32m     62\u001b[0m     amount \u001b[38;5;241m=\u001b[39m \u001b[38;5;28minput\u001b[39m (\u001b[38;5;124m\"\u001b[39m\u001b[38;5;124mEnter the amount you want to withdraw \u001b[39m\u001b[38;5;124m\"\u001b[39m)\n\u001b[1;32m---> 63\u001b[0m     \u001b[38;5;28;01mif\u001b[39;00m amount \u001b[38;5;241m<\u001b[39m\u001b[38;5;241m=\u001b[39m \u001b[38;5;28mself\u001b[39m\u001b[38;5;241m.\u001b[39mbalance:\n\u001b[0;32m     64\u001b[0m         \u001b[38;5;28mself\u001b[39m\u001b[38;5;241m.\u001b[39mbalance \u001b[38;5;241m=\u001b[39m \u001b[38;5;28mself\u001b[39m\u001b[38;5;241m.\u001b[39mbalance \u001b[38;5;241m-\u001b[39m amount\n\u001b[0;32m     65\u001b[0m         \u001b[38;5;28mprint\u001b[39m(\u001b[38;5;124m\"\u001b[39m\u001b[38;5;124mCash Withdrawal successful\u001b[39m\u001b[38;5;124m\"\u001b[39m)\n",
      "\u001b[1;31mTypeError\u001b[0m: '<=' not supported between instances of 'str' and 'int'"
     ]
    }
   ],
   "source": [
    "a = Atm()"
   ]
  },
  {
   "cell_type": "code",
   "execution_count": 4,
   "id": "771b5364-2c79-4100-9153-fd2f73ac3032",
   "metadata": {},
   "outputs": [
    {
     "data": {
      "text/plain": [
       "''"
      ]
     },
     "execution_count": 4,
     "metadata": {},
     "output_type": "execute_result"
    }
   ],
   "source": [
    "a.balance"
   ]
  },
  {
   "cell_type": "code",
   "execution_count": null,
   "id": "c08f8e38-87cc-47ab-a597-1a1fe392597f",
   "metadata": {},
   "outputs": [],
   "source": []
  }
 ],
 "metadata": {
  "kernelspec": {
   "display_name": "Python 3 (ipykernel)",
   "language": "python",
   "name": "python3"
  },
  "language_info": {
   "codemirror_mode": {
    "name": "ipython",
    "version": 3
   },
   "file_extension": ".py",
   "mimetype": "text/x-python",
   "name": "python",
   "nbconvert_exporter": "python",
   "pygments_lexer": "ipython3",
   "version": "3.11.5"
  }
 },
 "nbformat": 4,
 "nbformat_minor": 5
}
